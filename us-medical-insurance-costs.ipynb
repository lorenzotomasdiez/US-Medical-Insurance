{
 "cells": [
  {
   "attachments": {},
   "cell_type": "markdown",
   "metadata": {},
   "source": [
    "# U.S. Medical Insurance Costs\n",
    "---\n",
    "**Lorenzo Tomas Diez - [LinkedIn](https://www.linkedin.com/in/lorenzotomasdiez/)**"
   ]
  },
  {
   "cell_type": "markdown",
   "metadata": {},
   "source": [
    "## The Dataset\n",
    "---\n",
    "The dataset, contains the following columns:\n",
    "\n",
    "- `age`: Age of primary beneficiary.\n",
    "- `sex`: Gender of the insurance contractor.\n",
    "- `bmi`: Body Mass Index, an indicator of relative weight to height.\n",
    "- `children`: Number of dependents covered by health insurance.\n",
    "- `smoker`: Indicates whether the beneficiary is a smoker (yes or no).\n",
    "- `region`: The beneficiary's residential area.\n",
    "- `charges`: Individual medical costs."
   ]
  },
  {
   "cell_type": "markdown",
   "metadata": {},
   "source": [
    "## Preparing for Data Analysis\n",
    "---\n",
    "Before diving into the dataset analysis, it's crucial to first load and store the data in variables. This step ensures that we can efficiently work with the dataset even after reading and closing the file."
   ]
  },
  {
   "cell_type": "code",
   "execution_count": 92,
   "metadata": {},
   "outputs": [
    {
     "name": "stdout",
     "output_type": "stream",
     "text": [
      "{'age': '19', 'sex': 'female', 'bmi': '27.9', 'children': '0', 'smoker': 'yes', 'region': 'southwest', 'charges': '16884.924'}\n"
     ]
    }
   ],
   "source": [
    "import csv\n",
    "with open('insurance.csv', newline='') as insurance_file:\n",
    "  reader = csv.DictReader(insurance_file)\n",
    "  dataset = []\n",
    "  for row in reader:\n",
    "    dataset.append(row)\n",
    "\n",
    "print(dataset[0])"
   ]
  },
  {
   "cell_type": "markdown",
   "metadata": {},
   "source": [
    "## Validate missing data in dataset\n",
    "---"
   ]
  },
  {
   "cell_type": "code",
   "execution_count": 93,
   "metadata": {},
   "outputs": [
    {
     "name": "stdout",
     "output_type": "stream",
     "text": [
      "The number of data in age list is 1338\n",
      "The number of data in sex list is 1338\n",
      "The number of data in bmi list is 1338\n",
      "The number of data in children list is 1338\n",
      "The number of data in smoker list is 1338\n",
      "The number of data in region list is 1338\n",
      "The number of data in charges list is 1338\n",
      "The number of rows in the dataset is 1338\n"
     ]
    }
   ],
   "source": [
    "def create_data_dict(dataset):\n",
    "  age = []\n",
    "  sex = []\n",
    "  bmi = []\n",
    "  children = []\n",
    "  smoker = []\n",
    "  region = []\n",
    "  charges = []\n",
    "  for row in dataset:\n",
    "    if(row.get('age', None) != None):\n",
    "      age.append(int(row['age']))\n",
    "    if(row.get('sex', None) != None):\n",
    "      sex.append(row['sex'])\n",
    "    if(row.get('bmi', None) != None):\n",
    "      bmi.append(float(row['bmi']))\n",
    "    if(row.get('children', None) != None):\n",
    "      children.append(row['children'])\n",
    "    if(row.get('smoker', None) != None):\n",
    "      smoker.append(row['smoker'])\n",
    "    if(row.get('region', None) != None):\n",
    "      region.append(row['region'])\n",
    "    if(row.get('charges', None) != None):\n",
    "      charges.append(float(row['charges']))\n",
    "  return {\n",
    "    \"age\":age,\n",
    "    \"sex\":sex,\n",
    "    \"bmi\":bmi,\n",
    "    \"children\":children,\n",
    "    \"smoker\":smoker,\n",
    "    \"region\":region,\n",
    "    \"charges\":charges\n",
    "  }\n",
    "\n",
    "data_dict = create_data_dict(dataset)\n",
    "\n",
    "for key in data_dict:\n",
    "  print(\"The number of data in {key} list is {list_length}\".format(key=key, list_length = len(data_dict[key])))\n",
    "print(\"The number of rows in the dataset is {dataset}\".format(dataset=len(dataset)))"
   ]
  },
  {
   "cell_type": "markdown",
   "metadata": {},
   "source": [
    "No missing that has been confirmed. Now we can begin analyzing.\n",
    "\n",
    "---\n",
    "\n",
    "**Explore Demographic Trends**: Analyze how gender, age, smoking and region influence medical insurance costs.\n",
    "\n",
    "---"
   ]
  },
  {
   "cell_type": "code",
   "execution_count": 94,
   "metadata": {},
   "outputs": [
    {
     "name": "stdout",
     "output_type": "stream",
     "text": [
      "There are 662 female data, and represents the 49.48% of total\n",
      "There are 676 male data, and represents the 50.52% of total\n",
      "1338\n"
     ]
    }
   ],
   "source": [
    "total_people = len(dataset)\n",
    "sex_data = {}\n",
    "\n",
    "for sex in data_dict[\"sex\"]:\n",
    "  if sex in sex_data:\n",
    "    sex_data[sex][\"total\"] += 1\n",
    "  if sex not in sex_data:\n",
    "    sex_data[sex] = {\n",
    "    \"total\": 1,\n",
    "    \"pct\":0\n",
    "  }\n",
    "\n",
    "for key in sex_data:\n",
    "  sex_data[key][\"pct\"] = round(sex_data[key][\"total\"]/total_people * 100, 2)\n",
    "  print(\"There are {total} {key} data, and represents the {pct}% of total\".format(\n",
    "    total=sex_data[key][\"total\"],\n",
    "    key=key,\n",
    "    pct=sex_data[key][\"pct\"]\n",
    "  ))\n",
    "print(total_people)"
   ]
  },
  {
   "cell_type": "code",
   "execution_count": 95,
   "metadata": {},
   "outputs": [
    {
     "name": "stdout",
     "output_type": "stream",
     "text": [
      "There are 325 people from southwest , and represents the 24.29% of total\n",
      "There are 364 people from southeast , and represents the 27.2% of total\n",
      "There are 325 people from northwest , and represents the 24.29% of total\n",
      "There are 324 people from northeast , and represents the 24.22% of total\n"
     ]
    }
   ],
   "source": [
    "region_data = {}\n",
    "for region in data_dict[\"region\"]:\n",
    "  if region in region_data:\n",
    "    region_data[region][\"total\"] += 1\n",
    "  if region not in region_data:\n",
    "    region_data[region] = {\n",
    "    \"total\": 1,\n",
    "    \"pct\":0\n",
    "  }\n",
    "\n",
    "for key in region_data:\n",
    "  region_data[key][\"pct\"] = round(region_data[key][\"total\"]/total_people * 100, 2)\n",
    "  print(\"There are {total} people from {key} , and represents the {pct}% of total\".format(\n",
    "    total=region_data[key][\"total\"],\n",
    "    key=key,\n",
    "    pct=region_data[key][\"pct\"]\n",
    "  ))"
   ]
  },
  {
   "cell_type": "code",
   "execution_count": 96,
   "metadata": {},
   "outputs": [
    {
     "name": "stdout",
     "output_type": "stream",
     "text": [
      "The min age in the population is 18 years\n",
      "The avg age in the population is 39 years\n",
      "The max age in the population is 64 years\n"
     ]
    }
   ],
   "source": [
    "age_data = {\n",
    "  \"min\":min(data_dict[\"age\"]),\n",
    "  \"avg\":int(sum(data_dict[\"age\"])/total_people),\n",
    "  \"max\":max(data_dict[\"age\"])\n",
    "}\n",
    "\n",
    "for key in age_data:\n",
    "  print(\"The {key} age in the population is {value} years\".format(key=key, value=age_data[key]))"
   ]
  },
  {
   "cell_type": "code",
   "execution_count": 97,
   "metadata": {},
   "outputs": [
    {
     "name": "stdout",
     "output_type": "stream",
     "text": [
      "The min bmi in the population is 15.96\n",
      "The avg bmi in the population is 30.66\n",
      "The max bmi in the population is 53.13\n"
     ]
    }
   ],
   "source": [
    "bmi_data = {\n",
    "  \"min\":min(data_dict[\"bmi\"]),\n",
    "  \"avg\":round(sum(data_dict[\"bmi\"])/total_people, 2),\n",
    "  \"max\":max(data_dict[\"bmi\"])\n",
    "}\n",
    "\n",
    "for key in bmi_data:\n",
    "  print(\"The {key} bmi in the population is {value}\".format(key=key, value=bmi_data[key]))"
   ]
  },
  {
   "cell_type": "code",
   "execution_count": 98,
   "metadata": {},
   "outputs": [
    {
     "name": "stdout",
     "output_type": "stream",
     "text": [
      "The 20.48% is smoker\n",
      "The 79.52% is non-smoker\n"
     ]
    }
   ],
   "source": [
    "smokers_data = {}\n",
    "for smoker in data_dict[\"smoker\"]:\n",
    "  if smoker in smokers_data:\n",
    "    smokers_data[smoker][\"total\"] += 1\n",
    "  if smoker not in smokers_data:\n",
    "    smokers_data[smoker] = {\n",
    "    \"total\": 1,\n",
    "    \"pct\":0\n",
    "  }\n",
    "\n",
    "for key in smokers_data:\n",
    "  smokers_data[key][\"pct\"] = round(smokers_data[key][\"total\"]/total_people * 100, 2)\n",
    "  print(\"The {pct}% is {key}\".format(\n",
    "    key=\"smoker\" if key == \"yes\" else \"non-smoker\",\n",
    "    pct=smokers_data[key][\"pct\"]\n",
    "  ))"
   ]
  },
  {
   "cell_type": "code",
   "execution_count": 99,
   "metadata": {},
   "outputs": [
    {
     "name": "stdout",
     "output_type": "stream",
     "text": [
      "The min charges in the population is $1121.9 dollars\n",
      "The avg charges in the population is $13270.4 dollars\n",
      "The max charges in the population is $63770.4 dollars\n"
     ]
    }
   ],
   "source": [
    "charges_data = {\n",
    "  \"min\":round(min(data_dict[\"charges\"]), 1),\n",
    "  \"avg\":round(sum(data_dict[\"charges\"])/total_people, 1),\n",
    "  \"max\":round(max(data_dict[\"charges\"]), 1)\n",
    "}\n",
    "\n",
    "for key in charges_data:\n",
    "  print(\"The {key} charges in the population is ${value} dollars\".format(key=key, value=charges_data[key]))"
   ]
  },
  {
   "cell_type": "markdown",
   "metadata": {},
   "source": [
    "---\n",
    "\n",
    "**BMI Impact Assessment**: Investigate the correlation between BMI and insurance charges\n",
    "\n",
    "---"
   ]
  },
  {
   "cell_type": "code",
   "execution_count": 100,
   "metadata": {},
   "outputs": [],
   "source": [
    "bmi_deviation = [x - bmi_data[\"avg\"] for x in data_dict[\"bmi\"]]\n",
    "charges_deviation = [x - charges_data[\"avg\"] for x in data_dict[\"charges\"]]\n",
    "\n",
    "bmi_squared_deviation = [x**2 for x in bmi_deviation]\n",
    "charges_squared_deviation = [x**2 for x in charges_deviation]\n"
   ]
  },
  {
   "cell_type": "markdown",
   "metadata": {},
   "source": [
    "Now, we are multiplying the deviations of BMI and insurance charges for each observation. This provides us with a measure of how much BMI and insurance charges vary together in relation to their means."
   ]
  },
  {
   "cell_type": "code",
   "execution_count": 101,
   "metadata": {},
   "outputs": [],
   "source": [
    "deviations_product = [bmi_deviation[i] * charges_deviation[i] for i in range(len(bmi_deviation))]"
   ]
  },
  {
   "cell_type": "markdown",
   "metadata": {},
   "source": [
    "Sum all the products of deviations and squares of deviations"
   ]
  },
  {
   "cell_type": "code",
   "execution_count": 102,
   "metadata": {},
   "outputs": [],
   "source": [
    "sum_of_product_deviations = sum(deviations_product)\n",
    "sum_of_squared_deviation_bmi = sum(bmi_squared_deviation)\n",
    "sum_of_squared_deviation_charges = sum(charges_squared_deviation)"
   ]
  },
  {
   "cell_type": "markdown",
   "metadata": {},
   "source": [
    "Finally, we are using the formula for the Pearson correlation coefficient:\n",
    "\n",
    "r = \n",
    "(Sum of Products of Deviations) / \n",
    "root(Sum of Squares of Deviation of BMI × Sum of Squares of Deviation of Insurance Charges)\n",
    "\n",
    "This formula gives us a value between -1 and 1, indicating the strength and direction of the linear relationship between BMI and insurance charges. A value close to 1 indicates a positive correlation, while a value close to -1 indicates a negative correlation. A value close to 0 indicates a weak or no correlation."
   ]
  },
  {
   "cell_type": "code",
   "execution_count": 103,
   "metadata": {},
   "outputs": [
    {
     "name": "stdout",
     "output_type": "stream",
     "text": [
      "Correlation between BMI and Charges: 0.19834093906454933\n"
     ]
    }
   ],
   "source": [
    "import math\n",
    "\n",
    "correlation = sum_of_product_deviations / math.sqrt(sum_of_squared_deviation_bmi * sum_of_squared_deviation_charges)\n",
    "\n",
    "print(\"Correlation between BMI and Charges: {value}\".format(\n",
    "  value = correlation\n",
    "))"
   ]
  },
  {
   "cell_type": "markdown",
   "metadata": {},
   "source": [
    "\n",
    "The correlation coefficient of approximately 0.198 suggests a weak positive linear relationship between BMI and insurance charges in the dataset. This indicates that as BMI tends to increase, insurance charges also tend to increase, but the correlation is not strong. It's important to note that other factors may play a significant role in determining insurance charges, and this correlation alone may not provide a complete understanding of the underlying factors influencing the costs. Further analysis and consideration of additional variables may be needed for a comprehensive assessment\n",
    "\n",
    "---"
   ]
  },
  {
   "cell_type": "markdown",
   "metadata": {},
   "source": [
    "**Smoking Habits and Costs**: Examine the significant impact of smoking on insurance costs, and explore implications for health and financial planning.\n",
    "\n",
    "---"
   ]
  },
  {
   "cell_type": "code",
   "execution_count": 104,
   "metadata": {},
   "outputs": [
    {
     "name": "stdout",
     "output_type": "stream",
     "text": [
      "Correlation between Smokers and Charges 0.7872514304971381\n"
     ]
    }
   ],
   "source": [
    "boolean_smoker = [1 if e == \"yes\" else 0 for e in data_dict[\"smoker\"]]\n",
    "mean_smoker = sum(boolean_smoker)/len(boolean_smoker)\n",
    "\n",
    "smoker_deviation = [x - mean_smoker for x in boolean_smoker]\n",
    "\n",
    "squared_deviation_smoker = [x**2 for x in smoker_deviation]\n",
    "\n",
    "product_of_deviations_smoker_charges = [smoker_deviation[i] * charges_deviation[i] for i in range(len(boolean_smoker))]\n",
    "\n",
    "sum_of_product_deviations_smoker_changes = sum(product_of_deviations_smoker_charges)\n",
    "sum_of_squared_deviation_smoker = sum(squared_deviation_smoker)\n",
    "\n",
    "correlation_smoker = sum_of_product_deviations_smoker_changes / (math.sqrt(sum_of_squared_deviation_smoker * sum_of_squared_deviation_charges))\n",
    "\n",
    "print(\"Correlation between Smokers and Charges\", correlation_smoker)"
   ]
  },
  {
   "cell_type": "markdown",
   "metadata": {},
   "source": [
    "Certainly! Based on the calculated correlation coefficient of approximately 0.787 between smoking and insurance charges, we can conclude that there is a strong positive correlation. This indicates that individuals who smoke tend to have higher insurance charges compared to non-smokers. It's important for insurance companies to consider smoking habits when determining insurance premiums, as it is a significant factor influencing the cost of coverage. This finding highlights the importance of promoting and incentivizing healthy lifestyle choices to potentially lower insurance costs for individuals."
   ]
  },
  {
   "cell_type": "markdown",
   "metadata": {},
   "source": [
    "---\n",
    "\n",
    "**Predictive Modeling**: Develop a predictive model to estimate insurance costs based on smokers costs correlation.\n",
    "\n",
    "---"
   ]
  },
  {
   "cell_type": "code",
   "execution_count": 119,
   "metadata": {},
   "outputs": [
    {
     "name": "stdout",
     "output_type": "stream",
     "text": [
      "Smoker Coefficient: 23188.685870681944\n",
      "Intercept: 8578.322547999975\n",
      "The predicted cost for a non-smoker with a BMI of 30 is: $8578.32\n"
     ]
    }
   ],
   "source": [
    "from sklearn.model_selection import train_test_split\n",
    "from sklearn.linear_model import LinearRegression\n",
    "\n",
    "X = [[e] for e in boolean_smoker]\n",
    "y = data_dict['charges']\n",
    "\n",
    "# Splitting the data into training and testing sets\n",
    "X_train, X_test, y_train, y_test = train_test_split(X, y, test_size=0.2, random_state=42)\n",
    "\n",
    "# Selecting and training the model\n",
    "model = LinearRegression()\n",
    "model.fit(X_train, y_train)\n",
    "\n",
    "# Evaluating the Model\n",
    "y_pred = model.predict(X_test)\n",
    "\n",
    "# Interpreting the Model\n",
    "smoker_coefficient = model.coef_[0]\n",
    "intercept = model.intercept_\n",
    "\n",
    "# Printing the coefficients\n",
    "print(f\"Smoker Coefficient: {smoker_coefficient}\")\n",
    "print(f\"Intercept: {intercept}\")\n",
    "\n",
    "# Using the Model\n",
    "# Now you can use the model to make predictions.\n",
    "# For example, to predict the insurance cost for a 22-year-old non-smoker with a BMI of 30:\n",
    "new_data = [[0]]  # 0 represents non-smoker\n",
    "prediction = model.predict(new_data)\n",
    "print(f\"The predicted cost for a non-smoker with a BMI of 30 is: ${prediction[0]:.2f}\")\n",
    "\n",
    "\n"
   ]
  }
 ],
 "metadata": {
  "kernelspec": {
   "display_name": "Python 3",
   "language": "python",
   "name": "python3"
  },
  "language_info": {
   "codemirror_mode": {
    "name": "ipython",
    "version": 3
   },
   "file_extension": ".py",
   "mimetype": "text/x-python",
   "name": "python",
   "nbconvert_exporter": "python",
   "pygments_lexer": "ipython3",
   "version": "3.11.3"
  }
 },
 "nbformat": 4,
 "nbformat_minor": 4
}
